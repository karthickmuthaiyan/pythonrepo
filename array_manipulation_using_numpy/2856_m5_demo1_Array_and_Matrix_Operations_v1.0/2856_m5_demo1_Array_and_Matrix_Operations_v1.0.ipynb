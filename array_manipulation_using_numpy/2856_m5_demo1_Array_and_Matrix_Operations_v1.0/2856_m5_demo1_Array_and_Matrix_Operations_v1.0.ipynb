{
  "nbformat": 4,
  "nbformat_minor": 0,
  "metadata": {
    "colab": {
      "provenance": []
    },
    "kernelspec": {
      "name": "python3",
      "display_name": "Python 3"
    },
    "language_info": {
      "name": "python"
    }
  },
  "cells": [
    {
      "cell_type": "markdown",
      "source": [
        "#Demo 1: Array and Matrix Operations"
      ],
      "metadata": {
        "id": "Rl0xdEwANzJI"
      }
    },
    {
      "cell_type": "markdown",
      "source": [
        "- <h3>Import necessary library"
      ],
      "metadata": {
        "id": "skxEY2XpN4jX"
      }
    },
    {
      "cell_type": "code",
      "source": [
        "import numpy as np"
      ],
      "metadata": {
        "id": "Ap5H7XceN9Zh"
      },
      "execution_count": 1,
      "outputs": []
    },
    {
      "cell_type": "markdown",
      "source": [
        "##Creating Arrays"
      ],
      "metadata": {
        "id": "eGpphU6JOAhQ"
      }
    },
    {
      "cell_type": "markdown",
      "source": [
        "###Creating a non-dimensional array"
      ],
      "metadata": {
        "id": "XBeEQNAFPO2H"
      }
    },
    {
      "cell_type": "code",
      "source": [
        "non_dim_array = np.array(5)\n",
        "print(\"Non-dimensional Array:\", non_dim_array)"
      ],
      "metadata": {
        "colab": {
          "base_uri": "https://localhost:8080/"
        },
        "id": "MCrFDz1AOCBi",
        "outputId": "b62ec2d9-6e91-48b0-8939-ce81f5724478"
      },
      "execution_count": 2,
      "outputs": [
        {
          "output_type": "stream",
          "name": "stdout",
          "text": [
            "Non-dimensional Array: 5\n"
          ]
        }
      ]
    },
    {
      "cell_type": "markdown",
      "source": [
        "###Creating single-dimensional and multi-dimensional arrays"
      ],
      "metadata": {
        "id": "3Q_aRNonOdKB"
      }
    },
    {
      "cell_type": "code",
      "source": [
        "single_dim_array = np.array([1, 2, 3, 4, 5])\n",
        "multi_dim_array = np.array([[1, 2, 3], [4, 5, 6]])\n",
        "print(\"\\nSingle Dimensional Array:\", single_dim_array)\n",
        "print(\"\\nMulti Dimensional Array:\")\n",
        "print(multi_dim_array)"
      ],
      "metadata": {
        "colab": {
          "base_uri": "https://localhost:8080/"
        },
        "id": "TLWWWhKIODdQ",
        "outputId": "17eb8972-17cc-4447-cbeb-381ec4bca10d"
      },
      "execution_count": 3,
      "outputs": [
        {
          "output_type": "stream",
          "name": "stdout",
          "text": [
            "\n",
            "Single Dimensional Array: [1 2 3 4 5]\n",
            "\n",
            "Multi Dimensional Array:\n",
            "[[1 2 3]\n",
            " [4 5 6]]\n"
          ]
        }
      ]
    },
    {
      "cell_type": "markdown",
      "source": [
        "###Creating arrays of ones and zeros"
      ],
      "metadata": {
        "id": "30pO51zGOd6x"
      }
    },
    {
      "cell_type": "code",
      "source": [
        "ones_array = np.ones((3, 3))\n",
        "zeros_array = np.zeros((3, 3))\n",
        "print(\"\\nArray of ones:\")\n",
        "print(ones_array)\n",
        "print(\"\\nArray of zeros:\")\n",
        "print(zeros_array)"
      ],
      "metadata": {
        "colab": {
          "base_uri": "https://localhost:8080/"
        },
        "id": "vgzWgCO8OEwO",
        "outputId": "f5187a79-c6b5-49d6-bc57-5960821e392b"
      },
      "execution_count": 4,
      "outputs": [
        {
          "output_type": "stream",
          "name": "stdout",
          "text": [
            "\n",
            "Array of ones:\n",
            "[[1. 1. 1.]\n",
            " [1. 1. 1.]\n",
            " [1. 1. 1.]]\n",
            "\n",
            "Array of zeros:\n",
            "[[0. 0. 0.]\n",
            " [0. 0. 0.]\n",
            " [0. 0. 0.]]\n"
          ]
        }
      ]
    },
    {
      "cell_type": "markdown",
      "source": [
        "###Using arange and linspace"
      ],
      "metadata": {
        "id": "pw0-7KD1Oelc"
      }
    },
    {
      "cell_type": "code",
      "source": [
        "arange_array = np.arange(10)\n",
        "linspace_array = np.linspace(0, 1, 5)\n",
        "print(\"\\nArange Array:\", arange_array)\n",
        "print(\"\\nLinspace Array:\", linspace_array)"
      ],
      "metadata": {
        "colab": {
          "base_uri": "https://localhost:8080/"
        },
        "id": "2isjiwJPOF-g",
        "outputId": "25b25bb1-995f-4af1-d663-1fd5299f5ffe"
      },
      "execution_count": 5,
      "outputs": [
        {
          "output_type": "stream",
          "name": "stdout",
          "text": [
            "\n",
            "Arange Array: [0 1 2 3 4 5 6 7 8 9]\n",
            "\n",
            "Linspace Array: [0.   0.25 0.5  0.75 1.  ]\n"
          ]
        }
      ]
    },
    {
      "cell_type": "markdown",
      "source": [
        "###Copying an array"
      ],
      "metadata": {
        "id": "RJr1kOAiOfVV"
      }
    },
    {
      "cell_type": "code",
      "source": [
        "copied_array = np.copy(single_dim_array)\n",
        "print(\"\\nCopied Array:\", copied_array)"
      ],
      "metadata": {
        "colab": {
          "base_uri": "https://localhost:8080/"
        },
        "id": "VFzkbGf8OHGG",
        "outputId": "50954abc-83e1-4a7f-beb9-a10af4432d55"
      },
      "execution_count": 6,
      "outputs": [
        {
          "output_type": "stream",
          "name": "stdout",
          "text": [
            "\n",
            "Copied Array: [1 2 3 4 5]\n"
          ]
        }
      ]
    },
    {
      "cell_type": "markdown",
      "source": [
        "#Arithmetic Operations"
      ],
      "metadata": {
        "id": "Q7qNa0ffOf-G"
      }
    },
    {
      "cell_type": "code",
      "source": [
        "a = np.array([10, 20, 30])\n",
        "b = np.array([5, 10, 15])\n",
        "print(\"\\nAddition:\", a + b)\n",
        "print(\"Subtraction:\", a - b)\n",
        "print(\"Multiplication:\", a * b)\n",
        "print(\"Division:\", a / b)"
      ],
      "metadata": {
        "colab": {
          "base_uri": "https://localhost:8080/"
        },
        "id": "9OamQh1qOJEg",
        "outputId": "0beb69c6-96af-484d-d356-17041ff8da55"
      },
      "execution_count": 7,
      "outputs": [
        {
          "output_type": "stream",
          "name": "stdout",
          "text": [
            "\n",
            "Addition: [15 30 45]\n",
            "Subtraction: [ 5 10 15]\n",
            "Multiplication: [ 50 200 450]\n",
            "Division: [2. 2. 2.]\n"
          ]
        }
      ]
    },
    {
      "cell_type": "markdown",
      "source": [
        "##Matrix Operations"
      ],
      "metadata": {
        "id": "0VDF0i0TOgvv"
      }
    },
    {
      "cell_type": "code",
      "source": [
        "a = np.arange(0, 9).reshape(3, 3)\n",
        "b = np.ones((3, 3))\n",
        "print(\"\\nMatrix A:\")\n",
        "print(a)\n",
        "print(\"\\nMatrix B:\")\n",
        "print(b)\n",
        "print(\"\\nMatrix Product:\")\n",
        "print(np.dot(a, b))"
      ],
      "metadata": {
        "colab": {
          "base_uri": "https://localhost:8080/"
        },
        "id": "Uv-0tP2GOKjK",
        "outputId": "8d6ebf95-3e51-4381-e80f-0d10ed6a9b02"
      },
      "execution_count": 8,
      "outputs": [
        {
          "output_type": "stream",
          "name": "stdout",
          "text": [
            "\n",
            "Matrix A:\n",
            "[[0 1 2]\n",
            " [3 4 5]\n",
            " [6 7 8]]\n",
            "\n",
            "Matrix B:\n",
            "[[1. 1. 1.]\n",
            " [1. 1. 1.]\n",
            " [1. 1. 1.]]\n",
            "\n",
            "Matrix Product:\n",
            "[[ 3.  3.  3.]\n",
            " [12. 12. 12.]\n",
            " [21. 21. 21.]]\n"
          ]
        }
      ]
    },
    {
      "cell_type": "markdown",
      "source": [
        "## Universal Functions"
      ],
      "metadata": {
        "id": "gbM2LmdqO27u"
      }
    },
    {
      "cell_type": "markdown",
      "source": [
        "###Trigonometric functions"
      ],
      "metadata": {
        "id": "Bla4c3S5OhWA"
      }
    },
    {
      "cell_type": "code",
      "source": [
        "angles = np.array([0, np.pi/2, np.pi])\n",
        "print(\"\\nSine values:\", np.sin(angles))\n",
        "print(\"Cosine values:\", np.cos(angles))"
      ],
      "metadata": {
        "colab": {
          "base_uri": "https://localhost:8080/"
        },
        "id": "MlptHlCxOMP_",
        "outputId": "46af871c-fa06-4e8e-8e97-da3059ad5d2e"
      },
      "execution_count": 9,
      "outputs": [
        {
          "output_type": "stream",
          "name": "stdout",
          "text": [
            "\n",
            "Sine values: [0.0000000e+00 1.0000000e+00 1.2246468e-16]\n",
            "Cosine values: [ 1.000000e+00  6.123234e-17 -1.000000e+00]\n"
          ]
        }
      ]
    },
    {
      "cell_type": "markdown",
      "source": [
        "###Comparison Functions"
      ],
      "metadata": {
        "id": "CV9ONZTGOiHG"
      }
    },
    {
      "cell_type": "code",
      "source": [
        "comp_array = np.array([1, 2, 3, 4])\n",
        "print(\"\\nComparison Greater than 2:\", np.greater(comp_array, 2))"
      ],
      "metadata": {
        "colab": {
          "base_uri": "https://localhost:8080/"
        },
        "id": "3GMPF5ZQOOzh",
        "outputId": "785b3ced-ced0-42a2-b6e6-9baa1665917b"
      },
      "execution_count": 10,
      "outputs": [
        {
          "output_type": "stream",
          "name": "stdout",
          "text": [
            "\n",
            "Comparison Greater than 2: [False False  True  True]\n"
          ]
        }
      ]
    },
    {
      "cell_type": "markdown",
      "source": [
        "###Math Operations"
      ],
      "metadata": {
        "id": "CluJ49ojOj63"
      }
    },
    {
      "cell_type": "code",
      "source": [
        "print(\"\\nSquare Root:\", np.sqrt(a))\n",
        "print(\"Exponential:\", np.exp(a))"
      ],
      "metadata": {
        "colab": {
          "base_uri": "https://localhost:8080/"
        },
        "id": "Jw2miE9sOP_q",
        "outputId": "033e26ec-d619-4a6c-afff-a619b306e96e"
      },
      "execution_count": 11,
      "outputs": [
        {
          "output_type": "stream",
          "name": "stdout",
          "text": [
            "\n",
            "Square Root: [[0.         1.         1.41421356]\n",
            " [1.73205081 2.         2.23606798]\n",
            " [2.44948974 2.64575131 2.82842712]]\n",
            "Exponential: [[1.00000000e+00 2.71828183e+00 7.38905610e+00]\n",
            " [2.00855369e+01 5.45981500e+01 1.48413159e+02]\n",
            " [4.03428793e+02 1.09663316e+03 2.98095799e+03]]\n"
          ]
        }
      ]
    },
    {
      "cell_type": "markdown",
      "source": [
        "###Bitwise Operations"
      ],
      "metadata": {
        "id": "BZm7yNDxOkt9"
      }
    },
    {
      "cell_type": "code",
      "source": [
        "bitwise_a = np.array([0, 1, 2, 3])\n",
        "bitwise_b = np.array([4, 5, 6, 7])\n",
        "print(\"\\nBitwise AND:\", np.bitwise_and(bitwise_a, bitwise_b))\n",
        "print(\"Bitwise OR:\", np.bitwise_or(bitwise_a, bitwise_b))"
      ],
      "metadata": {
        "colab": {
          "base_uri": "https://localhost:8080/"
        },
        "id": "rdF1x3UuOSGU",
        "outputId": "160c8271-323f-4d71-f8d1-bbea9c70600c"
      },
      "execution_count": 12,
      "outputs": [
        {
          "output_type": "stream",
          "name": "stdout",
          "text": [
            "\n",
            "Bitwise AND: [0 1 2 3]\n",
            "Bitwise OR: [4 5 6 7]\n"
          ]
        }
      ]
    },
    {
      "cell_type": "markdown",
      "source": [
        "###Floating Functions"
      ],
      "metadata": {
        "id": "-5rqt-JYOlVS"
      }
    },
    {
      "cell_type": "code",
      "source": [
        "float_array = np.array([1.1, 2.5, 3.8])\n",
        "print(\"\\nFloor:\", np.floor(float_array))\n",
        "print(\"Ceil:\", np.ceil(float_array))"
      ],
      "metadata": {
        "colab": {
          "base_uri": "https://localhost:8080/"
        },
        "id": "t8OjFtAVOTzr",
        "outputId": "4120f3cd-6c41-4e65-8719-73210d1e85ea"
      },
      "execution_count": 13,
      "outputs": [
        {
          "output_type": "stream",
          "name": "stdout",
          "text": [
            "\n",
            "Floor: [1. 2. 3.]\n",
            "Ceil: [2. 3. 4.]\n"
          ]
        }
      ]
    },
    {
      "cell_type": "markdown",
      "source": [
        "##Aggregate Functions"
      ],
      "metadata": {
        "id": "NcS5Xd6gOl2t"
      }
    },
    {
      "cell_type": "code",
      "source": [
        "matrix = np.array([[1, 2, 3], [4, 5, 6], [7, 8, 9]])\n",
        "print(\"\\nMatrix:\")\n",
        "print(matrix)\n",
        "print(\"\\nSum:\", np.sum(matrix))\n",
        "print(\"Mean:\", np.mean(matrix))\n",
        "print(\"Standard Deviation:\", np.std(matrix))\n",
        "print(\"Minimum:\", np.min(matrix))\n",
        "print(\"Maximum:\", np.max(matrix))"
      ],
      "metadata": {
        "colab": {
          "base_uri": "https://localhost:8080/"
        },
        "id": "osYP4vjIOVPU",
        "outputId": "31cadb51-5046-422f-9cdf-270ebc9c1539"
      },
      "execution_count": 14,
      "outputs": [
        {
          "output_type": "stream",
          "name": "stdout",
          "text": [
            "\n",
            "Matrix:\n",
            "[[1 2 3]\n",
            " [4 5 6]\n",
            " [7 8 9]]\n",
            "\n",
            "Sum: 45\n",
            "Mean: 5.0\n",
            "Standard Deviation: 2.581988897471611\n",
            "Minimum: 1\n",
            "Maximum: 9\n"
          ]
        }
      ]
    }
  ]
}