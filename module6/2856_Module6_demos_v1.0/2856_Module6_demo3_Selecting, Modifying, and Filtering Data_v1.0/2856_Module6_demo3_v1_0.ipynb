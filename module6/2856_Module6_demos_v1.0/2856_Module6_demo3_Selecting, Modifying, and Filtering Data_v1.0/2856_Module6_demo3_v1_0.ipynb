{
  "nbformat": 4,
  "nbformat_minor": 0,
  "metadata": {
    "colab": {
      "provenance": []
    },
    "kernelspec": {
      "name": "python3",
      "display_name": "Python 3"
    },
    "language_info": {
      "name": "python"
    }
  },
  "cells": [
    {
      "cell_type": "markdown",
      "source": [
        "#Module 6 Demonstration"
      ],
      "metadata": {
        "id": "05Spa7QeysiN"
      }
    },
    {
      "cell_type": "markdown",
      "source": [
        "##Demonstration 3 - Selecting, Modifying, and Filtering Data"
      ],
      "metadata": {
        "id": "t3OJWyr4yoWV"
      }
    },
    {
      "cell_type": "markdown",
      "source": [
        "##Importing Libraries"
      ],
      "metadata": {
        "id": "3WoZ92dA0Sn1"
      }
    },
    {
      "cell_type": "code",
      "source": [
        "import pandas as pd"
      ],
      "metadata": {
        "id": "ksWgZdYrbtVm"
      },
      "execution_count": 1,
      "outputs": []
    },
    {
      "cell_type": "markdown",
      "source": [
        "## Sample DataFrame"
      ],
      "metadata": {
        "id": "Ca2mcypk0Xg7"
      }
    },
    {
      "cell_type": "code",
      "source": [
        "df = pd.DataFrame({'A': [1, 2, 3], 'B': [4, 5, 6]})"
      ],
      "metadata": {
        "id": "ncxKcg8Obvdy"
      },
      "execution_count": 11,
      "outputs": []
    },
    {
      "cell_type": "markdown",
      "source": [
        "##Selecting Data"
      ],
      "metadata": {
        "id": "mLwFUqvrbwiG"
      }
    },
    {
      "cell_type": "markdown",
      "source": [
        "- <h3> Selecting columns"
      ],
      "metadata": {
        "id": "J5oW1ifK0hGN"
      }
    },
    {
      "cell_type": "code",
      "source": [
        "column_a = df['A']\n",
        "print(\"Selected column 'A':\\n\", column_a)"
      ],
      "metadata": {
        "colab": {
          "base_uri": "https://localhost:8080/"
        },
        "id": "TCmyj3BSbyEI",
        "outputId": "ca25c26d-2b78-4d2e-ae1e-ee006d121429"
      },
      "execution_count": 3,
      "outputs": [
        {
          "output_type": "stream",
          "name": "stdout",
          "text": [
            "Selected column 'A':\n",
            " 0    1\n",
            "1    2\n",
            "2    3\n",
            "Name: A, dtype: int64\n"
          ]
        }
      ]
    },
    {
      "cell_type": "markdown",
      "source": [
        "- <h3> Selecting rows"
      ],
      "metadata": {
        "id": "j--SIkkh0kjB"
      }
    },
    {
      "cell_type": "code",
      "source": [
        "row_0 = df.iloc[0]\n",
        "print(\"\\nFirst row:\\n\", row_0)\n",
        "\n",
        "row_condition = df[df['A'] > 1]\n",
        "print(\"\\nRows where 'A' > 1:\\n\", row_condition)"
      ],
      "metadata": {
        "colab": {
          "base_uri": "https://localhost:8080/"
        },
        "id": "MsspG3PNbzLL",
        "outputId": "29524268-84b4-4a95-bacb-ffb68fef219f"
      },
      "execution_count": 4,
      "outputs": [
        {
          "output_type": "stream",
          "name": "stdout",
          "text": [
            "\n",
            "First row:\n",
            " A    1\n",
            "B    4\n",
            "Name: 0, dtype: int64\n",
            "\n",
            "Rows where 'A' > 1:\n",
            "    A  B\n",
            "1  2  5\n",
            "2  3  6\n"
          ]
        }
      ]
    },
    {
      "cell_type": "markdown",
      "source": [
        "## Modifying Data"
      ],
      "metadata": {
        "id": "8MtTUik1b1nA"
      }
    },
    {
      "cell_type": "markdown",
      "source": [
        "- <h3> Adding a new column"
      ],
      "metadata": {
        "id": "8uucvUfC0zzt"
      }
    },
    {
      "cell_type": "code",
      "source": [
        "df['C'] = [7, 8, 9]\n",
        "print(\"\\nDataFrame after adding column 'C':\\n\", df)"
      ],
      "metadata": {
        "colab": {
          "base_uri": "https://localhost:8080/"
        },
        "id": "1QjTihgOb3Jp",
        "outputId": "611bc6ea-2e6b-44e7-cf70-ffeeb36a805b"
      },
      "execution_count": 5,
      "outputs": [
        {
          "output_type": "stream",
          "name": "stdout",
          "text": [
            "\n",
            "DataFrame after adding column 'C':\n",
            "    A  B  C\n",
            "0  1  4  7\n",
            "1  2  5  8\n",
            "2  3  6  9\n"
          ]
        }
      ]
    },
    {
      "cell_type": "markdown",
      "source": [
        "- <h3> Removing a column"
      ],
      "metadata": {
        "id": "b2mfuvyg033Y"
      }
    },
    {
      "cell_type": "code",
      "source": [
        "df = df.drop('C', axis=1)\n",
        "print(\"\\nDataFrame after removing column 'C':\\n\", df)"
      ],
      "metadata": {
        "colab": {
          "base_uri": "https://localhost:8080/"
        },
        "id": "gM_xQsVOb4S0",
        "outputId": "88752a30-3380-45f7-b07a-3a91e8338a9c"
      },
      "execution_count": 6,
      "outputs": [
        {
          "output_type": "stream",
          "name": "stdout",
          "text": [
            "\n",
            "DataFrame after removing column 'C':\n",
            "    A  B\n",
            "0  1  4\n",
            "1  2  5\n",
            "2  3  6\n"
          ]
        }
      ]
    },
    {
      "cell_type": "markdown",
      "source": [
        "- <h3> Removing a row"
      ],
      "metadata": {
        "id": "u4s022YL07fs"
      }
    },
    {
      "cell_type": "code",
      "source": [
        "df = df.drop(0, axis=0)  # Remove row with index 0\n",
        "print(\"\\nDataFrame after removing row 0:\\n\", df)"
      ],
      "metadata": {
        "colab": {
          "base_uri": "https://localhost:8080/"
        },
        "id": "sexSzWqOb5ds",
        "outputId": "99876d34-a2f3-484d-ed54-ef30c9bc4b77"
      },
      "execution_count": 7,
      "outputs": [
        {
          "output_type": "stream",
          "name": "stdout",
          "text": [
            "\n",
            "DataFrame after removing row 0:\n",
            "    A  B\n",
            "1  2  5\n",
            "2  3  6\n"
          ]
        }
      ]
    },
    {
      "cell_type": "markdown",
      "source": [
        "- <h3> Updating a cell value"
      ],
      "metadata": {
        "id": "7xV9lqen1Bf6"
      }
    },
    {
      "cell_type": "code",
      "source": [
        "df.at[1, 'A'] = 10\n",
        "print(\"\\nDataFrame after updating cell (1, 'A'):\\n\", df)"
      ],
      "metadata": {
        "colab": {
          "base_uri": "https://localhost:8080/"
        },
        "id": "EBSr1J8xb7e9",
        "outputId": "f7a5e1a9-d518-46c5-d6cc-a8795ec37c27"
      },
      "execution_count": 12,
      "outputs": [
        {
          "output_type": "stream",
          "name": "stdout",
          "text": [
            "\n",
            "DataFrame after updating cell (1, 'A'):\n",
            "     A  B\n",
            "0   1  4\n",
            "1  10  5\n",
            "2   3  6\n"
          ]
        }
      ]
    },
    {
      "cell_type": "markdown",
      "source": [
        "## Filtering Data"
      ],
      "metadata": {
        "id": "wnVGaVWQb9Ih"
      }
    },
    {
      "cell_type": "markdown",
      "source": [
        "- <h3> Filtering using a single value"
      ],
      "metadata": {
        "id": "frQl-v5U1Kus"
      }
    },
    {
      "cell_type": "code",
      "source": [
        "filtered_df = df[df['A'] == 2]\n",
        "print(\"\\nRows where 'A' == 2:\\n\", filtered_df)"
      ],
      "metadata": {
        "colab": {
          "base_uri": "https://localhost:8080/"
        },
        "id": "n_l-6CGjb-fK",
        "outputId": "5531a0ab-8ac0-4eb3-b981-af4036260f13"
      },
      "execution_count": 13,
      "outputs": [
        {
          "output_type": "stream",
          "name": "stdout",
          "text": [
            "\n",
            "Rows where 'A' == 2:\n",
            " Empty DataFrame\n",
            "Columns: [A, B]\n",
            "Index: []\n"
          ]
        }
      ]
    },
    {
      "cell_type": "markdown",
      "source": [
        "- <h3> Filtering using a list of values"
      ],
      "metadata": {
        "id": "LzGWPeI91Ovr"
      }
    },
    {
      "cell_type": "code",
      "source": [
        "values = [1, 2]\n",
        "filtered_df_list = df[df['A'].isin(values)]\n",
        "print(\"\\nRows where 'A' is in [1, 2]:\\n\", filtered_df_list)"
      ],
      "metadata": {
        "colab": {
          "base_uri": "https://localhost:8080/"
        },
        "id": "2Jo4XU-Ib_8k",
        "outputId": "b90a5c6a-b824-4fad-8ecc-4fcfce8a65e9"
      },
      "execution_count": 10,
      "outputs": [
        {
          "output_type": "stream",
          "name": "stdout",
          "text": [
            "\n",
            "Rows where 'A' is in [1, 2]:\n",
            " Empty DataFrame\n",
            "Columns: [A, B]\n",
            "Index: []\n"
          ]
        }
      ]
    }
  ]
}