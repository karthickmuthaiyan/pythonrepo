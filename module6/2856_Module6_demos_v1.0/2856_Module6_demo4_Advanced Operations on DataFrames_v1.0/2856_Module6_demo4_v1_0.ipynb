{
  "cells": [
    {
      "cell_type": "markdown",
      "metadata": {
        "id": "rSC9nPJsyteW"
      },
      "source": [
        "#Module 6 Demonstration"
      ]
    },
    {
      "cell_type": "markdown",
      "metadata": {
        "id": "5C5ySYIGypLg"
      },
      "source": [
        "##Demonstration 4 - Advanced Operations on DataFrames"
      ]
    },
    {
      "cell_type": "markdown",
      "metadata": {
        "id": "CRVIQgc21hhG"
      },
      "source": [
        "##Importing Libraries"
      ]
    },
    {
      "cell_type": "code",
      "execution_count": 1,
      "metadata": {
        "id": "W-7rAndCa8iE"
      },
      "outputs": [],
      "source": [
        "import pandas as pd\n",
        "import numpy as np"
      ]
    },
    {
      "cell_type": "markdown",
      "metadata": {
        "id": "eE0HrofG1m__"
      },
      "source": [
        "## Sample DataFrames"
      ]
    },
    {
      "cell_type": "code",
      "execution_count": 2,
      "metadata": {
        "id": "AVzmzEOoa9kL"
      },
      "outputs": [],
      "source": [
        "df1 = pd.DataFrame({'A': [1, 2, 3], 'B': [4, 5, 6]})\n",
        "df2 = pd.DataFrame({'A': [4, 5], 'B': [7, 8]})"
      ]
    },
    {
      "cell_type": "code",
      "execution_count": 4,
      "metadata": {},
      "outputs": [
        {
          "name": "stdout",
          "output_type": "stream",
          "text": [
            "   A  B\n",
            "0  1  4\n",
            "1  2  5\n",
            "2  3  6\n",
            "   A  B\n",
            "0  4  7\n",
            "1  5  8\n"
          ]
        }
      ],
      "source": [
        "print(df1)\n",
        "print(df2)"
      ]
    },
    {
      "cell_type": "markdown",
      "metadata": {
        "id": "FbLvvHFZbA-V"
      },
      "source": [
        "## Concatenation"
      ]
    },
    {
      "cell_type": "markdown",
      "metadata": {
        "id": "MeDeTbJI1tLM"
      },
      "source": [
        "- <h3> Concatenating rows"
      ]
    },
    {
      "cell_type": "code",
      "execution_count": 5,
      "metadata": {
        "colab": {
          "base_uri": "https://localhost:8080/"
        },
        "id": "fQ6g6Upka-q5",
        "outputId": "eb0b4d17-b87e-4dca-cde6-e3383c9474e8"
      },
      "outputs": [
        {
          "name": "stdout",
          "output_type": "stream",
          "text": [
            "Concatenating rows:\n",
            "    A  B\n",
            "0  1  4\n",
            "1  2  5\n",
            "2  3  6\n",
            "0  4  7\n",
            "1  5  8\n"
          ]
        }
      ],
      "source": [
        "df_concat_rows = pd.concat([df1, df2], axis=0)\n",
        "print(\"Concatenating rows:\\n\", df_concat_rows)"
      ]
    },
    {
      "cell_type": "markdown",
      "metadata": {
        "id": "1nc6Zy391xTE"
      },
      "source": [
        "- <h3> Concatenating columns"
      ]
    },
    {
      "cell_type": "code",
      "execution_count": 6,
      "metadata": {
        "colab": {
          "base_uri": "https://localhost:8080/"
        },
        "id": "EhvP7-z3bCbV",
        "outputId": "6b0a3c60-aca7-4b3d-82a0-009399e31f5d"
      },
      "outputs": [
        {
          "name": "stdout",
          "output_type": "stream",
          "text": [
            "\n",
            "Concatenating columns:\n",
            "    A  B    A    B\n",
            "0  1  4  4.0  7.0\n",
            "1  2  5  5.0  8.0\n",
            "2  3  6  NaN  NaN\n"
          ]
        }
      ],
      "source": [
        "df_concat_cols = pd.concat([df1, df2], axis=1)\n",
        "print(\"\\nConcatenating columns:\\n\", df_concat_cols)\n"
      ]
    },
    {
      "cell_type": "markdown",
      "metadata": {
        "id": "j9oI7_cLbG1o"
      },
      "source": [
        "# 2. Merging and Joining DataFrames"
      ]
    },
    {
      "cell_type": "code",
      "execution_count": 7,
      "metadata": {
        "colab": {
          "base_uri": "https://localhost:8080/"
        },
        "id": "GcxKsD8DbIoG",
        "outputId": "523175d7-1077-40b2-ac54-927c9d2703f2"
      },
      "outputs": [
        {
          "name": "stdout",
          "output_type": "stream",
          "text": [
            "\n",
            "Merge operation (Inner Join):\n",
            " Empty DataFrame\n",
            "Columns: [A, B_x, B_y]\n",
            "Index: []\n"
          ]
        }
      ],
      "source": [
        "# Merge operation\n",
        "df_merge = pd.merge(df1, df2, on='A', how='inner')  # Merge based on column 'A'\n",
        "print(\"\\nMerge operation (Inner Join):\\n\", df_merge)"
      ]
    },
    {
      "cell_type": "code",
      "execution_count": 9,
      "metadata": {
        "colab": {
          "base_uri": "https://localhost:8080/"
        },
        "id": "V4lP274lbKJr",
        "outputId": "9d32b69e-298c-4f4c-c38b-d1a74d8009ce"
      },
      "outputs": [
        {
          "name": "stdout",
          "output_type": "stream",
          "text": [
            "   A  B\n",
            "0  1  4\n",
            "1  2  5\n",
            "2  3  6\n",
            "    B\n",
            "3  10\n",
            "4  20\n",
            "\n",
            "Join operation (Left Join):\n",
            "    A  B_caller  B_other\n",
            "0  1         4      NaN\n",
            "1  2         5      NaN\n",
            "2  3         6     10.0\n"
          ]
        }
      ],
      "source": [
        "# Join operation (using index)\n",
        "print(df1)\n",
        "df3 = pd.DataFrame({'B': [10, 20]}, index=[3, 4])\n",
        "print(df3)\n",
        "df_join = df1.join(df3, on='A', how='left', lsuffix='_caller', rsuffix='_other')\n",
        "print(\"\\nJoin operation (Left Join):\\n\", df_join)"
      ]
    },
    {
      "cell_type": "markdown",
      "metadata": {
        "id": "J_c7IXicbLu1"
      },
      "source": [
        "# Types of joins:"
      ]
    },
    {
      "cell_type": "markdown",
      "metadata": {
        "id": "bTUsNH7R33AX"
      },
      "source": [
        "- <h3> Left Join"
      ]
    },
    {
      "cell_type": "code",
      "execution_count": 11,
      "metadata": {
        "colab": {
          "base_uri": "https://localhost:8080/"
        },
        "id": "PFnbUlycbNcZ",
        "outputId": "a95afde6-e147-4df4-f9a6-8996e49b124a"
      },
      "outputs": [
        {
          "name": "stdout",
          "output_type": "stream",
          "text": [
            "   A  B\n",
            "0  1  4\n",
            "1  2  5\n",
            "2  3  6\n",
            "   A  B\n",
            "0  4  7\n",
            "1  5  8\n",
            "\n",
            "Left Join:\n",
            "    A  B_x  B_y\n",
            "0  1    4  NaN\n",
            "1  2    5  NaN\n",
            "2  3    6  NaN\n"
          ]
        }
      ],
      "source": [
        "print(df1)\n",
        "print(df2)\n",
        "df_left_join = pd.merge(df1, df2, on='A', how='left')\n",
        "print(\"\\nLeft Join:\\n\", df_left_join)"
      ]
    },
    {
      "cell_type": "markdown",
      "metadata": {
        "id": "TzgohvVf3zfV"
      },
      "source": [
        "- <h3> Right Join"
      ]
    },
    {
      "cell_type": "code",
      "execution_count": 34,
      "metadata": {
        "colab": {
          "base_uri": "https://localhost:8080/"
        },
        "id": "sK27FFnEbOz8",
        "outputId": "16e6d922-6a99-40f1-976c-104cc87c3ae8"
      },
      "outputs": [
        {
          "name": "stdout",
          "output_type": "stream",
          "text": [
            "\n",
            "Right Join:\n",
            "    A  B_x  B_y\n",
            "0  4  NaN    7\n",
            "1  5  NaN    8\n"
          ]
        }
      ],
      "source": [
        "df_right_join = pd.merge(df1, df2, on='A', how='right')\n",
        "print(\"\\nRight Join:\\n\", df_right_join)"
      ]
    },
    {
      "cell_type": "markdown",
      "metadata": {
        "id": "C7OikcrT3wR_"
      },
      "source": [
        "- <h3> Outer Join"
      ]
    },
    {
      "cell_type": "code",
      "execution_count": 35,
      "metadata": {
        "colab": {
          "base_uri": "https://localhost:8080/"
        },
        "id": "kfVblQv2bQ1S",
        "outputId": "99ed453e-c8fe-4a60-882b-680ffaf751a7"
      },
      "outputs": [
        {
          "name": "stdout",
          "output_type": "stream",
          "text": [
            "\n",
            "Outer Join:\n",
            "    A  B_x  B_y\n",
            "0  1  4.0  NaN\n",
            "1  2  5.0  NaN\n",
            "2  3  6.0  NaN\n",
            "3  4  NaN  7.0\n",
            "4  5  NaN  8.0\n"
          ]
        }
      ],
      "source": [
        "df_outer_join = pd.merge(df1, df2, on='A', how='outer')\n",
        "print(\"\\nOuter Join:\\n\", df_outer_join)"
      ]
    },
    {
      "cell_type": "markdown",
      "metadata": {
        "id": "hlAVCg4o3ssX"
      },
      "source": [
        "- <h3> Inner Join"
      ]
    },
    {
      "cell_type": "code",
      "execution_count": 36,
      "metadata": {
        "colab": {
          "base_uri": "https://localhost:8080/"
        },
        "id": "3igDIOy3bR79",
        "outputId": "a1921be8-3c2a-4d14-dcad-09b1f4108661"
      },
      "outputs": [
        {
          "name": "stdout",
          "output_type": "stream",
          "text": [
            "\n",
            "Inner Join:\n",
            " Empty DataFrame\n",
            "Columns: [A, B_x, B_y]\n",
            "Index: []\n"
          ]
        }
      ],
      "source": [
        "df_inner_join = pd.merge(df1, df2, on='A', how='inner')\n",
        "print(\"\\nInner Join:\\n\", df_inner_join)"
      ]
    },
    {
      "cell_type": "markdown",
      "metadata": {
        "id": "EwjwHz1U3pjS"
      },
      "source": [
        "- <h3> Self Join"
      ]
    },
    {
      "cell_type": "code",
      "execution_count": 37,
      "metadata": {
        "colab": {
          "base_uri": "https://localhost:8080/"
        },
        "id": "ocDLefi3bTM3",
        "outputId": "c9feeab7-2e3f-485c-80a8-7f652fe0ca2b"
      },
      "outputs": [
        {
          "name": "stdout",
          "output_type": "stream",
          "text": [
            "\n",
            "Self Join:\n",
            "    A  B_left  B_right\n",
            "0  1       4        4\n",
            "1  2       5        5\n",
            "2  3       6        6\n"
          ]
        }
      ],
      "source": [
        "df_self_join = pd.merge(df1, df1, on='A', how='inner', suffixes=('_left', '_right'))\n",
        "print(\"\\nSelf Join:\\n\", df_self_join)"
      ]
    },
    {
      "cell_type": "markdown",
      "metadata": {
        "id": "EsN1DsiFbUZV"
      },
      "source": [
        "## Handling Missing Data"
      ]
    },
    {
      "cell_type": "markdown",
      "metadata": {
        "id": "bNAdBVvz3kgr"
      },
      "source": [
        "- <h3> dropna() - Remove rows with missing data"
      ]
    },
    {
      "cell_type": "code",
      "execution_count": 12,
      "metadata": {
        "colab": {
          "base_uri": "https://localhost:8080/"
        },
        "id": "yLi9aSMbbWhI",
        "outputId": "a3bd1f89-8fa6-4bab-bfb5-f923249a4778"
      },
      "outputs": [
        {
          "name": "stdout",
          "output_type": "stream",
          "text": [
            "     A    B\n",
            "0  1.0  4.0\n",
            "1  NaN  5.0\n",
            "2  3.0  NaN\n",
            "\n",
            "dropna() - Dropped rows with NaN values:\n",
            "      A    B\n",
            "0  1.0  4.0\n"
          ]
        }
      ],
      "source": [
        "df_with_nan = pd.DataFrame({'A': [1, np.nan, 3], 'B': [4, 5, np.nan]})\n",
        "print(df_with_nan)\n",
        "df_dropna = df_with_nan.dropna()\n",
        "print(\"\\ndropna() - Dropped rows with NaN values:\\n\", df_dropna)"
      ]
    },
    {
      "cell_type": "markdown",
      "metadata": {
        "id": "7bCafVN43f2a"
      },
      "source": [
        "- <h3> fillna() - Fill missing data with a specific value"
      ]
    },
    {
      "cell_type": "code",
      "execution_count": 13,
      "metadata": {
        "colab": {
          "base_uri": "https://localhost:8080/"
        },
        "id": "POFJSAYdbYlq",
        "outputId": "5db9a115-1099-4bcb-fc7b-0bc414f87b9d"
      },
      "outputs": [
        {
          "name": "stdout",
          "output_type": "stream",
          "text": [
            "\n",
            "fillna() - Fill missing data with 0:\n",
            "      A    B\n",
            "0  1.0  4.0\n",
            "1  0.0  5.0\n",
            "2  3.0  0.0\n"
          ]
        }
      ],
      "source": [
        "df_fillna = df_with_nan.fillna(0)\n",
        "print(\"\\nfillna() - Fill missing data with 0:\\n\", df_fillna)"
      ]
    },
    {
      "cell_type": "markdown",
      "metadata": {
        "id": "Df8rGq7l3b_d"
      },
      "source": [
        "- <h3> isnull() - Check for missing data"
      ]
    },
    {
      "cell_type": "code",
      "execution_count": 14,
      "metadata": {
        "colab": {
          "base_uri": "https://localhost:8080/"
        },
        "id": "jNr9U8NbbaN4",
        "outputId": "147ed8a2-6913-4311-d6ed-50ec6e96ba92"
      },
      "outputs": [
        {
          "name": "stdout",
          "output_type": "stream",
          "text": [
            "\n",
            "isnull() - Check for missing data:\n",
            "        A      B\n",
            "0  False  False\n",
            "1   True  False\n",
            "2  False   True\n"
          ]
        }
      ],
      "source": [
        "df_isnull = df_with_nan.isnull()\n",
        "print(\"\\nisnull() - Check for missing data:\\n\", df_isnull)"
      ]
    },
    {
      "cell_type": "markdown",
      "metadata": {
        "id": "FWDR1XNf3YD9"
      },
      "source": [
        "- <h3> notnull() - Check for non-missing data"
      ]
    },
    {
      "cell_type": "code",
      "execution_count": 15,
      "metadata": {
        "colab": {
          "base_uri": "https://localhost:8080/"
        },
        "id": "RdVmt-AibbgI",
        "outputId": "789f4cb8-7f2d-4ec0-92f7-9ec8c6616d93"
      },
      "outputs": [
        {
          "name": "stdout",
          "output_type": "stream",
          "text": [
            "\n",
            "notnull() - Check for non-missing data:\n",
            "        A      B\n",
            "0   True   True\n",
            "1  False   True\n",
            "2   True  False\n"
          ]
        }
      ],
      "source": [
        "df_notnull = df_with_nan.notnull()\n",
        "print(\"\\nnotnull() - Check for non-missing data:\\n\", df_notnull)"
      ]
    },
    {
      "cell_type": "markdown",
      "metadata": {
        "id": "r8Hrg4tobcsZ"
      },
      "source": [
        "## Handling Duplicate Data"
      ]
    },
    {
      "cell_type": "markdown",
      "metadata": {
        "id": "zDtN90N03Tcr"
      },
      "source": [
        "- <h3> Removing duplicate rows"
      ]
    },
    {
      "cell_type": "code",
      "execution_count": 16,
      "metadata": {
        "colab": {
          "base_uri": "https://localhost:8080/"
        },
        "id": "Yxh4iszFbebi",
        "outputId": "6dc2d0dd-a7df-42bf-8a44-983708257fc2"
      },
      "outputs": [
        {
          "name": "stdout",
          "output_type": "stream",
          "text": [
            "   A  B\n",
            "0  1  4\n",
            "1  2  5\n",
            "2  2  5\n",
            "3  3  6\n",
            "\n",
            "Removing duplicate rows:\n",
            "    A  B\n",
            "0  1  4\n",
            "1  2  5\n",
            "3  3  6\n"
          ]
        }
      ],
      "source": [
        "df_duplicates = pd.DataFrame({'A': [1, 2, 2, 3], 'B': [4, 5, 5, 6]})\n",
        "print(df_duplicates)\n",
        "df_remove_duplicates = df_duplicates.drop_duplicates()\n",
        "print(\"\\nRemoving duplicate rows:\\n\", df_remove_duplicates)"
      ]
    },
    {
      "cell_type": "markdown",
      "metadata": {
        "id": "vsPTe32J3LFv"
      },
      "source": [
        "- <h3> Deleting duplicate rows"
      ]
    },
    {
      "cell_type": "code",
      "execution_count": 17,
      "metadata": {
        "colab": {
          "base_uri": "https://localhost:8080/"
        },
        "id": "29uodMyDbf4z",
        "outputId": "5815f779-a107-48e0-aa9f-cf6106d880cd"
      },
      "outputs": [
        {
          "name": "stdout",
          "output_type": "stream",
          "text": [
            "0    False\n",
            "1    False\n",
            "2     True\n",
            "3    False\n",
            "dtype: bool\n",
            "\n",
            "Deleting duplicate rows:\n",
            "    A  B\n",
            "0  1  4\n",
            "1  2  5\n",
            "3  3  6\n"
          ]
        }
      ],
      "source": [
        "print(df_duplicates.duplicated())\n",
        "df_delete_duplicates = df_duplicates[df_duplicates.duplicated() == False]\n",
        "print(\"\\nDeleting duplicate rows:\\n\", df_delete_duplicates)"
      ]
    },
    {
      "cell_type": "markdown",
      "metadata": {
        "id": "VgBzXDPV3HER"
      },
      "source": [
        "- <h3> Replacing duplicate values with a new value"
      ]
    },
    {
      "cell_type": "code",
      "execution_count": 18,
      "metadata": {
        "colab": {
          "base_uri": "https://localhost:8080/"
        },
        "id": "gPXJhHytbheG",
        "outputId": "9b68985d-7520-4c80-ae45-06ccbd6b72ba"
      },
      "outputs": [
        {
          "name": "stdout",
          "output_type": "stream",
          "text": [
            "   A  B\n",
            "0  1  4\n",
            "1  2  5\n",
            "2  2  5\n",
            "3  3  6\n",
            "\n",
            "Replacing duplicate values with 100:\n",
            "      A  B\n",
            "0    1  4\n",
            "1  100  5\n",
            "2  100  5\n",
            "3    3  6\n"
          ]
        }
      ],
      "source": [
        "print(df_duplicates)\n",
        "df_replace_duplicates = df_duplicates.replace(2, 100)\n",
        "print(\"\\nReplacing duplicate values with 100:\\n\", df_replace_duplicates)"
      ]
    },
    {
      "cell_type": "markdown",
      "metadata": {
        "id": "zZGjvr6pbi3O"
      },
      "source": [
        "## Advanced Data Operations"
      ]
    },
    {
      "cell_type": "markdown",
      "metadata": {
        "id": "_nx4_hnE22mJ"
      },
      "source": [
        "- <h3> groupby() - Grouping data by a column"
      ]
    },
    {
      "cell_type": "code",
      "execution_count": 19,
      "metadata": {
        "colab": {
          "base_uri": "https://localhost:8080/"
        },
        "id": "66YuCXfEbkiG",
        "outputId": "7c5d59fd-560a-437a-e59a-edc12f2f3def"
      },
      "outputs": [
        {
          "name": "stdout",
          "output_type": "stream",
          "text": [
            "\n",
            "groupby() - Grouping by column 'A':\n",
            "     B\n",
            "A    \n",
            "1   4\n",
            "2  10\n",
            "3   6\n"
          ]
        }
      ],
      "source": [
        "df_groupby = df_duplicates.groupby('A').sum()\n",
        "print(\"\\ngroupby() - Grouping by column 'A':\\n\", df_groupby)"
      ]
    },
    {
      "cell_type": "markdown",
      "metadata": {
        "id": "6iKg1Tm_27xd"
      },
      "source": [
        "- <h3> pivot() - Creating a pivot table from the data"
      ]
    },
    {
      "cell_type": "code",
      "execution_count": 21,
      "metadata": {
        "colab": {
          "base_uri": "https://localhost:8080/"
        },
        "id": "ctSpIhBkbmyX",
        "outputId": "592838cd-afcc-45b5-8c89-c5bcbfa93ef9"
      },
      "outputs": [
        {
          "name": "stdout",
          "output_type": "stream",
          "text": [
            "         Date Category  Sales\n",
            "0  2021-01-01        A     10\n",
            "1  2021-01-01        B     20\n",
            "2  2021-01-02        A     30\n",
            "\n",
            "pivot() - Pivot table with 'Date' as index:\n",
            " Category       A     B\n",
            "Date                  \n",
            "2021-01-01  10.0  20.0\n",
            "2021-01-02  30.0   NaN\n"
          ]
        }
      ],
      "source": [
        "df_pivot = pd.DataFrame({\n",
        "    'Date': ['2021-01-01', '2021-01-01', '2021-01-02'],\n",
        "    'Category': ['A', 'B', 'A'],\n",
        "    'Sales': [10, 20, 30]\n",
        "})\n",
        "print(df_pivot)\n",
        "df_pivot_table = df_pivot.pivot(index='Date', columns='Category', values='Sales')\n",
        "print(\"\\npivot() - Pivot table with 'Date' as index:\\n\", df_pivot_table)"
      ]
    },
    {
      "cell_type": "markdown",
      "metadata": {
        "id": "cUnON5722_k-"
      },
      "source": [
        "- <h3> pivot_table() - More flexible pivoting with aggregation"
      ]
    },
    {
      "cell_type": "code",
      "execution_count": 27,
      "metadata": {
        "colab": {
          "base_uri": "https://localhost:8080/"
        },
        "id": "p8LeZ2vYbodg",
        "outputId": "57584cd2-1bbe-49d1-f241-1fd6ebdbe7ae"
      },
      "outputs": [
        {
          "name": "stdout",
          "output_type": "stream",
          "text": [
            "         Date Category  Sales\n",
            "0  2021-01-01        A     10\n",
            "1  2021-01-01        A     50\n",
            "2  2021-01-01        B     20\n",
            "3  2021-01-02        A     30\n",
            "Category       A     B\n",
            "Date                  \n",
            "2021-01-01  60.0  20.0\n",
            "2021-01-02  30.0   NaN\n"
          ]
        },
        {
          "name": "stderr",
          "output_type": "stream",
          "text": [
            "C:\\Users\\dmkar\\AppData\\Local\\Temp\\ipykernel_19104\\2281458243.py:7: FutureWarning: The provided callable <function sum at 0x000002622470F920> is currently using DataFrameGroupBy.sum. In a future version of pandas, the provided callable will be used directly. To keep current behavior pass the string \"sum\" instead.\n",
            "  df_pivoted = df_pivot1.pivot_table(index='Date', columns='Category', values='Sales', aggfunc=np.sum)\n"
          ]
        }
      ],
      "source": [
        "df_pivot1 = pd.DataFrame({\n",
        "    'Date': ['2021-01-01', '2021-01-01','2021-01-01', '2021-01-02'],\n",
        "    'Category': ['A', 'A' ,'B', 'A'],\n",
        "    'Sales': [10, 50, 20, 30]\n",
        "})\n",
        "print(df_pivot1)\n",
        "df_pivoted = df_pivot1.pivot_table(index='Date', columns='Category', values='Sales', aggfunc=np.sum)\n",
        "print(df_pivoted)"
      ]
    },
    {
      "cell_type": "code",
      "execution_count": null,
      "metadata": {},
      "outputs": [],
      "source": [
        "df_pivot_table_agg = df_pivot.pivot_table(index='Date', columns='Category', values='Sales', aggfunc='sum')\n",
        "print(\"\\npivot_table() - Pivot table with aggregation:\\n\", df_pivot_table_agg)"
      ]
    }
  ],
  "metadata": {
    "colab": {
      "provenance": []
    },
    "kernelspec": {
      "display_name": "Python 3",
      "name": "python3"
    },
    "language_info": {
      "codemirror_mode": {
        "name": "ipython",
        "version": 3
      },
      "file_extension": ".py",
      "mimetype": "text/x-python",
      "name": "python",
      "nbconvert_exporter": "python",
      "pygments_lexer": "ipython3",
      "version": "3.13.1"
    }
  },
  "nbformat": 4,
  "nbformat_minor": 0
}
