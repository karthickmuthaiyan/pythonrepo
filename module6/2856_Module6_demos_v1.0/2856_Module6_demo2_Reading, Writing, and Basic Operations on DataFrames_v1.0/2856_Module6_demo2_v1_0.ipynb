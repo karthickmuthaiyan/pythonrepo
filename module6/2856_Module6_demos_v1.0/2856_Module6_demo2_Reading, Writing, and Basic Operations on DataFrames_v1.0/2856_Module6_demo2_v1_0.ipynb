{
  "nbformat": 4,
  "nbformat_minor": 0,
  "metadata": {
    "colab": {
      "provenance": []
    },
    "kernelspec": {
      "name": "python3",
      "display_name": "Python 3"
    },
    "language_info": {
      "name": "python"
    }
  },
  "cells": [
    {
      "cell_type": "markdown",
      "source": [
        "#Module 6 Demonstration"
      ],
      "metadata": {
        "id": "kBN3zGiFyrl6"
      }
    },
    {
      "cell_type": "markdown",
      "source": [
        "##Demonstration 2 - Reading, Writing, and Basic Operations on DataFrames"
      ],
      "metadata": {
        "id": "xb6Eojh0ynBf"
      }
    },
    {
      "cell_type": "markdown",
      "source": [
        "##Imporing Libraries"
      ],
      "metadata": {
        "id": "U_jP9s9o0O0T"
      }
    },
    {
      "cell_type": "code",
      "source": [
        "import pandas as pd"
      ],
      "metadata": {
        "id": "e0CHjSDycGb-"
      },
      "execution_count": 10,
      "outputs": []
    },
    {
      "cell_type": "markdown",
      "source": [
        "##Reading Data"
      ],
      "metadata": {
        "id": "vv-_LG1RcH7p"
      }
    },
    {
      "cell_type": "markdown",
      "source": [
        "- <h3> Reading data from a CSV file"
      ],
      "metadata": {
        "id": "0FTR-SFpzAug"
      }
    },
    {
      "cell_type": "code",
      "source": [
        "df_csv = pd.read_csv(\"sample_data.csv\")\n",
        "print(\"DataFrame from CSV:\\n\", df_csv, \"\\n\")"
      ],
      "metadata": {
        "colab": {
          "base_uri": "https://localhost:8080/"
        },
        "id": "SaHLhkvacJYV",
        "outputId": "fb20e126-0990-4a31-9a7c-c06aa45253af"
      },
      "execution_count": 11,
      "outputs": [
        {
          "output_type": "stream",
          "name": "stdout",
          "text": [
            "DataFrame from CSV:\n",
            "    ID     Name  Age  Salary Department\n",
            "0   1    Alice   25   50000         HR\n",
            "1   2      Bob   30   60000         IT\n",
            "2   3  Charlie   35   70000    Finance\n",
            "3   4    David   40   80000  Marketing\n",
            "4   5      Eve   22   45000         HR \n",
            "\n"
          ]
        }
      ]
    },
    {
      "cell_type": "markdown",
      "source": [
        "- <h3> Reading data from a JSON file"
      ],
      "metadata": {
        "id": "t_4kli0QzDPM"
      }
    },
    {
      "cell_type": "code",
      "source": [
        "df_json = pd.read_json(\"sample_data.json\")\n",
        "print(\"DataFrame from JSON:\\n\", df_json, \"\\n\")"
      ],
      "metadata": {
        "colab": {
          "base_uri": "https://localhost:8080/"
        },
        "id": "jjod3RclcKwQ",
        "outputId": "3fec54d8-57f2-40ad-e7e1-e5c86d5b7773"
      },
      "execution_count": 12,
      "outputs": [
        {
          "output_type": "stream",
          "name": "stdout",
          "text": [
            "DataFrame from JSON:\n",
            "    ID     Name  Age  Salary Department\n",
            "0   1    Alice   25   50000         HR\n",
            "1   2      Bob   30   60000         IT\n",
            "2   3  Charlie   35   70000    Finance\n",
            "3   4    David   40   80000  Marketing\n",
            "4   5      Eve   22   45000         HR \n",
            "\n"
          ]
        }
      ]
    },
    {
      "cell_type": "markdown",
      "source": [
        "## Writing Data"
      ],
      "metadata": {
        "id": "K2pzcnRwcL3a"
      }
    },
    {
      "cell_type": "markdown",
      "source": [
        "- <h3> Writing DataFrame to a CSV file"
      ],
      "metadata": {
        "id": "Oz0vSv5EzJys"
      }
    },
    {
      "cell_type": "code",
      "source": [
        "df_csv.to_csv(\"output_data.csv\", index=False)\n",
        "print(\"Data written to output_data.csv\\n\")"
      ],
      "metadata": {
        "colab": {
          "base_uri": "https://localhost:8080/"
        },
        "id": "eNTRAfStcNSE",
        "outputId": "af2fd403-c9dd-4bdf-afaa-a2652cda3e7a"
      },
      "execution_count": 13,
      "outputs": [
        {
          "output_type": "stream",
          "name": "stdout",
          "text": [
            "Data written to output_data.csv\n",
            "\n"
          ]
        }
      ]
    },
    {
      "cell_type": "markdown",
      "source": [
        "- <h3> Writing DataFrame to an Excel file"
      ],
      "metadata": {
        "id": "-hJN84VJzPTp"
      }
    },
    {
      "cell_type": "code",
      "source": [
        "df_csv.to_excel(\"output_data.xlsx\", index=False)\n",
        "print(\"Data written to output_data.xlsx\\n\")"
      ],
      "metadata": {
        "colab": {
          "base_uri": "https://localhost:8080/"
        },
        "id": "66G11zv8cOtf",
        "outputId": "ad1489d2-17bd-471f-f239-24d4f87fab53"
      },
      "execution_count": 14,
      "outputs": [
        {
          "output_type": "stream",
          "name": "stdout",
          "text": [
            "Data written to output_data.xlsx\n",
            "\n"
          ]
        }
      ]
    },
    {
      "cell_type": "markdown",
      "source": [
        "## Representing Features of Data"
      ],
      "metadata": {
        "id": "zUtssE_UcP29"
      }
    },
    {
      "cell_type": "code",
      "source": [
        "# Overview of DataFrame features\n",
        "print(\"DataFrame Info:\\n\", df_csv.info(), \"\\n\")\n",
        "print(\"DataFrame Description:\\n\", df_csv.describe(), \"\\n\")"
      ],
      "metadata": {
        "colab": {
          "base_uri": "https://localhost:8080/"
        },
        "id": "k9uNki2RcRjv",
        "outputId": "8e0e1992-bbf9-438a-aeb5-4b3131347d4e"
      },
      "execution_count": 15,
      "outputs": [
        {
          "output_type": "stream",
          "name": "stdout",
          "text": [
            "<class 'pandas.core.frame.DataFrame'>\n",
            "RangeIndex: 5 entries, 0 to 4\n",
            "Data columns (total 5 columns):\n",
            " #   Column      Non-Null Count  Dtype \n",
            "---  ------      --------------  ----- \n",
            " 0   ID          5 non-null      int64 \n",
            " 1   Name        5 non-null      object\n",
            " 2   Age         5 non-null      int64 \n",
            " 3   Salary      5 non-null      int64 \n",
            " 4   Department  5 non-null      object\n",
            "dtypes: int64(3), object(2)\n",
            "memory usage: 332.0+ bytes\n",
            "DataFrame Info:\n",
            " None \n",
            "\n",
            "DataFrame Description:\n",
            "              ID        Age        Salary\n",
            "count  5.000000   5.000000      5.000000\n",
            "mean   3.000000  30.400000  61000.000000\n",
            "std    1.581139   7.300685  14317.821063\n",
            "min    1.000000  22.000000  45000.000000\n",
            "25%    2.000000  25.000000  50000.000000\n",
            "50%    3.000000  30.000000  60000.000000\n",
            "75%    4.000000  35.000000  70000.000000\n",
            "max    5.000000  40.000000  80000.000000 \n",
            "\n"
          ]
        }
      ]
    },
    {
      "cell_type": "markdown",
      "source": [
        "- <h3> Functionality of Series"
      ],
      "metadata": {
        "id": "-mS3QXjczWRI"
      }
    },
    {
      "cell_type": "code",
      "source": [
        "print(\"Series Example (Age Column):\\n\", df_csv[\"Age\"], \"\\n\")"
      ],
      "metadata": {
        "colab": {
          "base_uri": "https://localhost:8080/"
        },
        "id": "mBjkzV04cUE-",
        "outputId": "90988fd2-b79b-446b-bc8f-7f1cd897df7b"
      },
      "execution_count": 16,
      "outputs": [
        {
          "output_type": "stream",
          "name": "stdout",
          "text": [
            "Series Example (Age Column):\n",
            " 0    25\n",
            "1    30\n",
            "2    35\n",
            "3    40\n",
            "4    22\n",
            "Name: Age, dtype: int64 \n",
            "\n"
          ]
        }
      ]
    },
    {
      "cell_type": "markdown",
      "source": [
        "- <h3> Functionality of DataFrame"
      ],
      "metadata": {
        "id": "hjugE4pSzb9v"
      }
    },
    {
      "cell_type": "code",
      "source": [
        "print(\"First 3 Rows of DataFrame:\\n\", df_csv.head(3), \"\\n\")\n",
        "print(\"Column Names:\\n\", df_csv.columns, \"\\n\")\n",
        "print(\"Shape of DataFrame:\\n\", df_csv.shape, \"\\n\")"
      ],
      "metadata": {
        "colab": {
          "base_uri": "https://localhost:8080/"
        },
        "id": "1C6Xyfu2cVSI",
        "outputId": "16cd5874-570d-4fff-b4f8-4b18fe733539"
      },
      "execution_count": 17,
      "outputs": [
        {
          "output_type": "stream",
          "name": "stdout",
          "text": [
            "First 3 Rows of DataFrame:\n",
            "    ID     Name  Age  Salary Department\n",
            "0   1    Alice   25   50000         HR\n",
            "1   2      Bob   30   60000         IT\n",
            "2   3  Charlie   35   70000    Finance \n",
            "\n",
            "Column Names:\n",
            " Index(['ID', 'Name', 'Age', 'Salary', 'Department'], dtype='object') \n",
            "\n",
            "Shape of DataFrame:\n",
            " (5, 5) \n",
            "\n"
          ]
        }
      ]
    }
  ]
}