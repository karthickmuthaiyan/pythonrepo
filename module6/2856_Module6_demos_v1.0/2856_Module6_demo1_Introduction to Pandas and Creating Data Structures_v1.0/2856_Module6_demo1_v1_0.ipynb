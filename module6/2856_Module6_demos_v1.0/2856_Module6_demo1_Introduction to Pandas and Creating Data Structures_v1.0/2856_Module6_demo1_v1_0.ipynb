{
  "nbformat": 4,
  "nbformat_minor": 0,
  "metadata": {
    "colab": {
      "provenance": []
    },
    "kernelspec": {
      "name": "python3",
      "display_name": "Python 3"
    },
    "language_info": {
      "name": "python"
    }
  },
  "cells": [
    {
      "cell_type": "markdown",
      "source": [
        "#Module 6 Demonstration"
      ],
      "metadata": {
        "id": "dFbcpjA5uj86"
      }
    },
    {
      "cell_type": "markdown",
      "source": [
        "##Demonstration 1 - Introduction to Pandas and Creating Data Structures"
      ],
      "metadata": {
        "id": "1Xj5gjyDusHe"
      }
    },
    {
      "cell_type": "markdown",
      "source": [
        "##Importing Libraries"
      ],
      "metadata": {
        "id": "YbKnAwlKu6K2"
      }
    },
    {
      "cell_type": "code",
      "source": [
        "# 1. Importing Libraries\n",
        "import pandas as pd\n",
        "import numpy as np"
      ],
      "metadata": {
        "id": "y-l5n31AZuWq"
      },
      "execution_count": 12,
      "outputs": []
    },
    {
      "cell_type": "markdown",
      "source": [
        "##Creating a Series"
      ],
      "metadata": {
        "id": "S3r-siZvZwO_"
      }
    },
    {
      "cell_type": "markdown",
      "source": [
        "- <h3> From ndarray"
      ],
      "metadata": {
        "id": "ogq7V883vEVS"
      }
    },
    {
      "cell_type": "code",
      "source": [
        "arr = np.array([10, 20, 30, 40])\n",
        "series_from_ndarray = pd.Series(arr)\n",
        "print(\"Series from ndarray:\\n\", series_from_ndarray, \"\\n\")"
      ],
      "metadata": {
        "colab": {
          "base_uri": "https://localhost:8080/"
        },
        "id": "b-ZmHL1-ZxuW",
        "outputId": "2e3b3066-9c90-48aa-abb1-19646fd05dce"
      },
      "execution_count": 13,
      "outputs": [
        {
          "output_type": "stream",
          "name": "stdout",
          "text": [
            "Series from ndarray:\n",
            " 0    10\n",
            "1    20\n",
            "2    30\n",
            "3    40\n",
            "dtype: int64 \n",
            "\n"
          ]
        }
      ]
    },
    {
      "cell_type": "markdown",
      "source": [
        "- <h3> From Dictionary"
      ],
      "metadata": {
        "id": "n07_y4mDvRWc"
      }
    },
    {
      "cell_type": "code",
      "source": [
        "dict_data = {'a': 100, 'b': 200, 'c': 300}\n",
        "series_from_dict = pd.Series(dict_data)\n",
        "print(\"Series from dictionary:\\n\", series_from_dict, \"\\n\")\n"
      ],
      "metadata": {
        "colab": {
          "base_uri": "https://localhost:8080/"
        },
        "id": "hHCOcCZhZzFX",
        "outputId": "32b4e6d5-7f2f-4572-fec2-e601b91821e2"
      },
      "execution_count": 14,
      "outputs": [
        {
          "output_type": "stream",
          "name": "stdout",
          "text": [
            "Series from dictionary:\n",
            " a    100\n",
            "b    200\n",
            "c    300\n",
            "dtype: int64 \n",
            "\n"
          ]
        }
      ]
    },
    {
      "cell_type": "markdown",
      "source": [
        "- <h3> From Scalar Value"
      ],
      "metadata": {
        "id": "fkmUYNi8vYpY"
      }
    },
    {
      "cell_type": "code",
      "source": [
        "series_from_scalar = pd.Series(5, index=['x', 'y', 'z'])\n",
        "print(\"Series from scalar:\\n\", series_from_scalar, \"\\n\")"
      ],
      "metadata": {
        "colab": {
          "base_uri": "https://localhost:8080/"
        },
        "id": "i9JHaQXIZ0T7",
        "outputId": "fc598c51-0ae6-4979-e57f-cb12528952f7"
      },
      "execution_count": 15,
      "outputs": [
        {
          "output_type": "stream",
          "name": "stdout",
          "text": [
            "Series from scalar:\n",
            " x    5\n",
            "y    5\n",
            "z    5\n",
            "dtype: int64 \n",
            "\n"
          ]
        }
      ]
    },
    {
      "cell_type": "markdown",
      "source": [
        "##Creating a DataFrame"
      ],
      "metadata": {
        "id": "vLuqK8sjZ1or"
      }
    },
    {
      "cell_type": "markdown",
      "source": [
        "- <h3> From a List"
      ],
      "metadata": {
        "id": "jwKNZwsmviso"
      }
    },
    {
      "cell_type": "code",
      "source": [
        "list_data = [['Alice', 25], ['Bob', 30], ['Charlie', 35]]\n",
        "df_from_list = pd.DataFrame(list_data, columns=['Name', 'Age'])\n",
        "print(\"DataFrame from list:\\n\", df_from_list, \"\\n\")\n"
      ],
      "metadata": {
        "colab": {
          "base_uri": "https://localhost:8080/"
        },
        "id": "Kf9i-_gPZ9hS",
        "outputId": "3901638d-24e7-4999-e2b0-65bb58c4eeeb"
      },
      "execution_count": 16,
      "outputs": [
        {
          "output_type": "stream",
          "name": "stdout",
          "text": [
            "DataFrame from list:\n",
            "       Name  Age\n",
            "0    Alice   25\n",
            "1      Bob   30\n",
            "2  Charlie   35 \n",
            "\n"
          ]
        }
      ]
    },
    {
      "cell_type": "markdown",
      "source": [
        "- <h3> From a List of Dictionaries"
      ],
      "metadata": {
        "id": "BunAMteJvo-2"
      }
    },
    {
      "cell_type": "code",
      "source": [
        "list_of_dicts = [{'Name': 'Alice', 'Age': 25}, {'Name': 'Bob', 'Age': 30}]\n",
        "df_from_list_of_dicts = pd.DataFrame(list_of_dicts)\n",
        "print(\"DataFrame from list of dictionaries:\\n\", df_from_list_of_dicts, \"\\n\")"
      ],
      "metadata": {
        "colab": {
          "base_uri": "https://localhost:8080/"
        },
        "id": "O7kjAI_XZ_EI",
        "outputId": "3959f3f0-6fe9-4195-e1ff-1af5ab9fcbb0"
      },
      "execution_count": 17,
      "outputs": [
        {
          "output_type": "stream",
          "name": "stdout",
          "text": [
            "DataFrame from list of dictionaries:\n",
            "     Name  Age\n",
            "0  Alice   25\n",
            "1    Bob   30 \n",
            "\n"
          ]
        }
      ]
    },
    {
      "cell_type": "markdown",
      "source": [
        "- <h3> From a Dictionary of Series"
      ],
      "metadata": {
        "id": "EkccR-03vwug"
      }
    },
    {
      "cell_type": "code",
      "source": [
        "dict_of_series = {\n",
        "    'Name': pd.Series(['Alice', 'Bob', 'Charlie']),\n",
        "    'Age': pd.Series([25, 30, 35])\n",
        "}\n",
        "df_from_dict_of_series = pd.DataFrame(dict_of_series)\n",
        "print(\"DataFrame from dictionary of series:\\n\", df_from_dict_of_series, \"\\n\")"
      ],
      "metadata": {
        "colab": {
          "base_uri": "https://localhost:8080/"
        },
        "id": "_sVB2IFIaA7O",
        "outputId": "abdbfa9b-e689-4694-a2ef-fadd4906ac80"
      },
      "execution_count": 18,
      "outputs": [
        {
          "output_type": "stream",
          "name": "stdout",
          "text": [
            "DataFrame from dictionary of series:\n",
            "       Name  Age\n",
            "0    Alice   25\n",
            "1      Bob   30\n",
            "2  Charlie   35 \n",
            "\n"
          ]
        }
      ]
    }
  ]
}