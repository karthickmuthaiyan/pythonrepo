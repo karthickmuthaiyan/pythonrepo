{
  "nbformat": 4,
  "nbformat_minor": 0,
  "metadata": {
    "colab": {
      "name": "1906_m3_Inheritance_Implementation_v1.0.ipynb",
      "provenance": [],
      "collapsed_sections": []
    },
    "kernelspec": {
      "name": "python3",
      "display_name": "Python 3"
    },
    "language_info": {
      "name": "python"
    }
  },
  "cells": [
    {
      "cell_type": "markdown",
      "source": [
        "#Demo 6 - Inheritance Implementation\n",
        "\n",
        "###The below codes demonstrates the usage of inheritance in Banking Domain to differentiate between regular customers and privileged customers and provide a discount of Rs.200 to the privileged customers and thereafter display the final amount."
      ],
      "metadata": {
        "id": "TMdX7dnqvBpv"
      }
    },
    {
      "cell_type": "markdown",
      "source": [
        "Create the Customer class with the constructor and two other methods. Display_details() method will be used to display the custId and custName. The CalculateAmount() method will be abstract in nature"
      ],
      "metadata": {
        "id": "FK9jYbZvvn_z"
      }
    },
    {
      "cell_type": "code",
      "source": [
        "# Customer Class\n",
        "\n",
        "class Customer:\n",
        "    def __init__(self,custId,custName):\n",
        "        self.custId=custId\n",
        "        self.custName=custName\n",
        "    def display_details(self):\n",
        "        print(self.custId)\n",
        "        print(self.custName)\n",
        "    def calculate_Amount(self,interest,year):\n",
        "        pass\n"
      ],
      "metadata": {
        "id": "PU6a7DpMv1IH"
      },
      "execution_count": 4,
      "outputs": []
    },
    {
      "cell_type": "markdown",
      "source": [
        "Create the child class Regular_Customer and build the constructor and CalculateAmount() method inside that.  Repeat the same for Privilege_Customer as well."
      ],
      "metadata": {
        "id": "z0i0avbVv-8s"
      }
    },
    {
      "cell_type": "code",
      "source": [
        "# Regular Customer Class\n",
        "\n",
        "class Regular_Customer(Customer):\n",
        "    def __init__(self,custId,custName,amount,custType):\n",
        "        self.custId=custId\n",
        "        self.custName=custName\n",
        "        self.amount=amount\n",
        "        self.custType=custType\n",
        "    def calculate_Amount(self,interest,year):\n",
        "        final_amount=self.amount+(self.amount*interest*year)/100.0\n",
        "        if (self.custType=='Regular'):\n",
        "            return final_amount\n",
        "        elif(self.custType=='Privilege'):\n",
        "            return final_amount-200"
      ],
      "metadata": {
        "id": "W5ItQXs7v96m"
      },
      "execution_count": 5,
      "outputs": []
    },
    {
      "cell_type": "markdown",
      "source": [
        "In the CalculateAmount() method, calculate the final amount using simple interest formula. If the customer is a regular customer, no discount will be applied, or else the discount amount will be ₹ 200 for the privileged customer."
      ],
      "metadata": {
        "id": "jXnCCTENwWSy"
      }
    },
    {
      "cell_type": "code",
      "source": [
        "# Priviledged Customer Class\n",
        "\n",
        "class Privilege_Customer(Customer):\n",
        "    def __init__(self,custId,custName,amount,custType):\n",
        "        self.custId=custId\n",
        "        self.custName=custName\n",
        "        self.amount=amount\n",
        "        self.custType=custType\n",
        "    def calculate_Amount(self,interest,year):\n",
        "        final_amount=self.amount+(self.amount*interest*year)/100.0\n",
        "        final_amount=final_amount-200  # Due to being priviledged customer\n",
        "        if (self.custType=='Regular'):\n",
        "            return final_amount\n",
        "        elif(self.custType=='Privilege'):\n",
        "            return final_amount-200"
      ],
      "metadata": {
        "id": "DdxI0y8Wwon9"
      },
      "execution_count": 6,
      "outputs": []
    },
    {
      "cell_type": "markdown",
      "source": [
        "Create one object for each child class and call the CalculateAmount() method to display the final amount."
      ],
      "metadata": {
        "id": "6TBWFpdawzqs"
      }
    },
    {
      "cell_type": "code",
      "source": [
        "# Object Creation and Method Calling\n",
        "Regular_1=Regular_Customer(101,'Smith',5000,'Regular')\n",
        "Privilege_1=Privilege_Customer(102,'Alan',5000,'Privilege')\n",
        "print(Regular_1.calculate_Amount(10,2))\n",
        "print(Privilege_1.calculate_Amount(10,2))"
      ],
      "metadata": {
        "colab": {
          "base_uri": "https://localhost:8080/"
        },
        "id": "hSKLSXzfxCIc",
        "outputId": "3238224a-9f0a-4f2a-c2db-9f2901644c27"
      },
      "execution_count": 7,
      "outputs": [
        {
          "output_type": "stream",
          "name": "stdout",
          "text": [
            "6000.0\n",
            "5600.0\n"
          ]
        }
      ]
    },
    {
      "cell_type": "markdown",
      "source": [
        ""
      ],
      "metadata": {
        "id": "ztWiv2MW0SUS"
      }
    },
    {
      "cell_type": "markdown",
      "source": [
        "Conclusion: There are two customers- Smith and Alan who has taken a loan amount of Rs.6000 for a period of 2 years.Since Alan is a priveleged customer so a total of Rs.200 is deducted every year from his total amount. Hence he has to pay Rs.5600 at the end of 2 years. However, Smith has to pay Rs.6000 as he is a regular customer."
      ],
      "metadata": {
        "id": "7zzPOS2P1El9"
      }
    }
  ]
}